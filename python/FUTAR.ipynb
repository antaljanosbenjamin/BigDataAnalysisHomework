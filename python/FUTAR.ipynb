{
 "metadata": {
  "anaconda-cloud": {},
  "kernelspec": {
   "display_name": "Python [default]",
   "language": "python",
   "name": "python3"
  },
  "language_info": {
   "codemirror_mode": {
    "name": "ipython",
    "version": 3
   },
   "file_extension": ".py",
   "mimetype": "text/x-python",
   "name": "python",
   "nbconvert_exporter": "python",
   "pygments_lexer": "ipython3",
   "version": "3.5.2"
  },
  "name": "",
  "signature": "sha256:c018b4cb96e832329b834f1e04f754f645784a6a26a3af9500367660743cb6cb"
 },
 "nbformat": 3,
 "nbformat_minor": 0,
 "worksheets": [
  {
   "cells": [
    {
     "cell_type": "code",
     "collapsed": false,
     "input": [
      "from pyspark.sql.types import StructType, StructField, StringType, IntegerType, DoubleType, DateType\n",
      "from pyspark.sql.functions import abs, udf, col\n",
      "\n",
      "routesSchema = StructType([\n",
      "\tStructField('agency_id',StringType(),True),\n",
      "\tStructField('route_id',StringType(),False),\n",
      "\tStructField('route_short_name',StringType(),False),\n",
      "\tStructField('route_long_name',StringType(),False),\n",
      "\tStructField('route_type',IntegerType(),False),\n",
      "\tStructField('route_desc',StringType(),True),\n",
      "\tStructField('route_color',StringType(),True),\n",
      "\tStructField('route_text_color',StringType(),True)])\n",
      "\n",
      "routes = spark.read.csv('routes.txt', header = True, mode = 'DROPMALFORMED', schema = routesSchema)\n",
      "routes = routes.select(routes.route_id, routes.route_short_name, routes.route_type)\n",
      "\n",
      "tripsSchema = StructType([\n",
      "\tStructField('route_id',StringType(),False),\n",
      "\tStructField('trip_id',StringType(),False),\n",
      "\tStructField('service_id',StringType(),False),\n",
      "\tStructField('trip_headsign',StringType(),True),\n",
      "\tStructField('direction_id',IntegerType(),True),\n",
      "\tStructField('block_id',StringType(),True),\n",
      "\tStructField('shape_id',StringType(),True),\n",
      "\tStructField('wheelchair_accessible',IntegerType(),True),\n",
      "\tStructField('bikes_allowed',IntegerType(),True)])\n",
      "\n",
      "trips = spark.read.csv('trips.txt', header = True, mode = 'DROPMALFORMED', schema = tripsSchema);\n",
      "trips = trips.select(trips.route_id, trips.trip_id, trips.service_id, trips.direction_id)\n",
      "\n",
      "stopsSchema = StructType([\n",
      "\tStructField('stop_id',StringType(),False),\n",
      "\tStructField('stop_name',StringType(),False),\n",
      "\tStructField('stop_lat',DoubleType(),False),\n",
      "\tStructField('stop_lon',DoubleType(),False),\n",
      "\tStructField('stop_code',StringType(),True),\n",
      "\tStructField('location_type',StringType(),True),\n",
      "\tStructField('parent_station',StringType(),True),\n",
      "\tStructField('wheelchair_boarding',IntegerType(),True),\n",
      "\tStructField('stop_direction',IntegerType(),True)])\n",
      "\n",
      "stops = spark.read.csv('stops.txt', header = True, mode = 'DROPMALFORMED', schema = stopsSchema)\n",
      "stops = stops.select(stops.stop_id, stops.stop_name,\n",
      "    stops.parent_station, stops.location_type, stops.stop_lat, stops.stop_lon)\n",
      "\n",
      "def fillParentStation(stop_id, parent_station):\n",
      "  if parent_station == None:\n",
      "    return stop_id\n",
      "  else:\n",
      "    return parent_station\n",
      "\n",
      "fillParentStationUDF = udf(fillParentStation)\n",
      "addRealParent = [c for c in [\"*\"]] + [fillParentStationUDF(col(\"stop_id\"),\n",
      "    col(\"parent_station\")).alias(\"real_parent_station\")]\n",
      "stopsWithRealParent = stops.select(*addRealParent)\n",
      "\n",
      "\n",
      "stopTimesSchema = StructType([\n",
      "\tStructField('trip_id',StringType(),False),\n",
      "\tStructField('stop_id',StringType(),False),\n",
      "\tStructField('arrival_time',StringType(),False),\n",
      "\tStructField('departure_time',StringType(),False),\n",
      "\tStructField('stop_sequence',StringType(),False),\n",
      "\tStructField('shape_dist_traveled',DoubleType(),True)\n",
      "])\n",
      "\n",
      "stopTimes = spark.read.csv('stop_times.txt', header = True, mode = 'DROPMALFORMED', schema = stopTimesSchema)\n",
      "stopTimes = stopTimes.select(stopTimes.trip_id, stopTimes.stop_id)\n",
      "\n",
      "calendarDatesSchema = StructType([\n",
      "    StructField('service_id', StringType(), False),\n",
      "    StructField('date', DateType(), False),\n",
      "    StructField('exception_type', IntegerType(), False)\n",
      "])\n",
      "\n",
      "calendarDates = spark.read.csv(\n",
      "    'calendar_dates.txt', header = True, mode = 'DROPMALFORMED', schema = calendarDatesSchema, dateFormat='yyyyMMdd')\n",
      "\n",
      "feedInfoSchema = StructType([\n",
      "    StructField('publisher', StringType(), False),\n",
      "    StructField('publisher_url', StringType(), False),\n",
      "    StructField('feed_lang', StringType(), False),\n",
      "    StructField('start_date', DateType(), False),\n",
      "    StructField('end_date', DateType(), False),\n",
      "    StructField('version', StringType(), False),\n",
      "    StructField('ext_version', StringType(), False)\n",
      "])\n",
      "\n",
      "feedInfo = spark.read.csv(\n",
      "    'feed_info.txt', header = True, mode = 'DROPMALFORMED', schema = feedInfoSchema, dateFormat='yyyyMMdd')"
     ],
     "language": "python",
     "metadata": {},
     "outputs": []
    },
    {
     "cell_type": "heading",
     "level": 1,
     "metadata": {},
     "source": [
      "FUTAR-01 - DONE"
     ]
    },
    {
     "cell_type": "markdown",
     "metadata": {},
     "source": [
      "Van-e olyan buszj\u00e1rat, ahol k\u00e9t k\u00fcl\u00f6nb\u00f6z\u0151 meg\u00e1ll\u00f3 neve egyazon j\u00e1raton bel\u00fcl megegyezik (\u00e9s melyek ezek, ha van)? Pontos\u00edt\u00e1s: Oda-vissza j\u00e1ratban term\u00e9szetesen nem sz\u00e1m\u00edt. Egyazon ir\u00e1nyba menet szerepel-e ugyanolyan nev\u0171 meg\u00e1ll\u00f3"
     ]
    },
    {
     "cell_type": "code",
     "collapsed": false,
     "input": [
      "stopsAndStopTimes = stopsWithRealParent.join(stopTimes, stopTimes.stop_id == stopsWithRealParent.stop_id)\n",
      "stopsAndStopTimesAndTrips = stopsAndStopTimes.join(trips, trips.trip_id == stopsAndStopTimes.trip_id)\n",
      "stopNamesAndStopIdsAndTrips = stopsAndStopTimesAndTrips.select(stops.stop_name,\n",
      "    stopsWithRealParent.real_parent_station, trips.trip_id, trips.direction_id).distinct()\n",
      "stopNamesCountByTripId = stopNamesAndStopIdsAndTrips.groupBy(\n",
      "    'trip_id','stop_name','direction_id').count().withColumnRenamed('count','stop_name_count')\n",
      "stopNamesCountByTripId.filter('stop_name_count >= 2').orderBy(stopNamesCountByTripId.stop_name_count.desc()).show()"
     ],
     "language": "python",
     "metadata": {},
     "outputs": []
    },
    {
     "cell_type": "heading",
     "level": 1,
     "metadata": {},
     "source": [
      "FUTAR-02 - DONE"
     ]
    },
    {
     "cell_type": "markdown",
     "metadata": {},
     "source": [
      "Egy nap h\u00e1nyszor \u00e1ll meg 7-es busz a Blaha Lujza t\u00e9ren?\n",
      "Pontos\u00edt\u00e1s: \u00e1tlagosan per nap."
     ]
    },
    {
     "cell_type": "code",
     "collapsed": false,
     "input": [
      "routesOnly7 = routes.filter('route_short_name = 7')\n",
      "\n",
      "tripsOnly7 = trips.filter(trips.route_id == routesOnly7.first().route_id)\n",
      "\n",
      "blahaStations = stops.filter(stops.stop_name.like('Blaha Lujza t\u00e9r%'))\n",
      "blahaStations = blahaStations.select(blahaStations.stop_id, blahaStations.stop_name)\n",
      "blahaStationsRenamedColumns = blahaStations.withColumnRenamed(\n",
      "    'stop_id','station_id').withColumnRenamed('stop_name','station_name')\n",
      "\n",
      "blahaStops = stops.join(blahaStationsRenamedColumns, stops.parent_station == blahaStationsRenamedColumns.station_id)\n",
      "blahaStops = blahaStops.select(blahaStops.stop_id, blahaStops.stop_name)\n",
      "blahaStops = blahaStops.union(blahaStations).distinct()\n",
      "\n",
      "tripsAndStopTimes = tripsOnly7.join(stopTimes, stopTimes.trip_id == tripsOnly7.trip_id)\n",
      "\n",
      "tripsAndStopsTimesAndStops = tripsAndStopTimes.join(blahaStops, tripsAndStopTimes.stop_id == blahaStops.stop_id)\n",
      "\n",
      "blahaCountPerService = tripsAndStopsTimesAndStops.groupBy('service_id').count()\n",
      "\n",
      "blahaCountPerServicePerDay = calendarDates.join(\n",
      "    blahaCountPerService, blahaCountPerService.service_id == calendarDates.service_id)\n",
      "countOfStopsAtBlaha = blahaCountPerServicePerDay.groupBy().sum('count').first()['sum(count)']\n",
      "\n",
      "days = (feedInfo.first()['end_date'] - feedInfo.first()['start_date']).days\n",
      "\n",
      "print '%.2f' % ((countOfStopsAtBlaha * 1.0) / days)"
     ],
     "language": "python",
     "metadata": {},
     "outputs": []
    },
    {
     "cell_type": "heading",
     "level": 1,
     "metadata": {},
     "source": [
      "FUTAR-05 - DONE"
     ]
    },
    {
     "cell_type": "markdown",
     "metadata": {},
     "source": [
      "H\u00e1ny k\u00fcl\u00f6nb\u00f6z\u0151 meg\u00e1ll\u00f3ja van \u00f6sszesen a BKK-haj\u00f3knak?"
     ]
    },
    {
     "cell_type": "code",
     "collapsed": false,
     "input": [
      "shipRoutesOnly = routes.filter('route_type = 4')\n",
      "shipTrips = shipRoutesOnly.join(trips, shipRoutesOnly.route_id == trips.route_id)\n",
      "shipStopTimes = shipTrips.join(stopTimes, stopTimes.trip_id == shipTrips.trip_id)\n",
      "shipStopTimesAndStops = shipStopTimes.join(stopsWithRealParent, stopsWithRealParent.stop_id == shipStopTimes.stop_id)\n",
      "shipStopCounts = shipStopTimesAndStops.select(\n",
      "    shipStopTimesAndStops.real_parent_station).distinct().groupBy().count().first()['count']\n",
      "print '%d' % shipStopCounts"
     ],
     "language": "python",
     "metadata": {},
     "outputs": []
    },
    {
     "cell_type": "heading",
     "level": 1,
     "metadata": {},
     "source": [
      "FUTAR-06 - DONE"
     ]
    },
    {
     "cell_type": "markdown",
     "metadata": {},
     "source": [
      "Vannak-e azonos nev\u0171 meg\u00e1ll\u00f3k, amelyek messzebb vannak egym\u00e1st\u00f3l mint 0.0025 sz\u00e9less\u00e9gi fok vagy 0.0025 hossz\u00fas\u00e1gi fok?!"
     ]
    },
    {
     "cell_type": "code",
     "collapsed": false,
     "input": [
      "rightStops = stops.select('stop_name','stop_id','stop_lon','stop_lat').withColumnRenamed(\n",
      "    'stop_name','r_name').withColumnRenamed('stop_id','r_id').withColumnRenamed(\n",
      "    'stop_lon','r_lon').withColumnRenamed('stop_lat', 'r_lat')\n",
      "\n",
      "leftStops = stops.select('stop_name','stop_id','stop_lon','stop_lat')\n",
      "\n",
      "stopsWithSameName = leftStops.join(rightStops, (leftStops.stop_name == rightStops.r_name )\n",
      "    & ~(leftStops.stop_id < rightStops.r_id) \n",
      "    & ((abs(rightStops.r_lat - leftStops.stop_lat) > 0.0025) | (abs(rightStops.r_lon - leftStops.stop_lon) > 0.0025) ))\n",
      "\n",
      "stopsWithSameNameAndDistances = stopsWithSameName.withColumn(\n",
      "    'lat_dist',abs(rightStops.r_lat - leftStops.stop_lat)).withColumn(\n",
      "    'lon_dist',abs(rightStops.r_lon - leftStops.stop_lon))\n",
      "stopsWithSameNameAndDistances.orderBy(stopsWithSameNameAndDistances.lon_dist.desc()).orderBy(\n",
      "    stopsWithSameNameAndDistances.lat_dist.desc()).show()"
     ],
     "language": "python",
     "metadata": {},
     "outputs": []
    },
    {
     "cell_type": "heading",
     "level": 1,
     "metadata": {},
     "source": [
      "FUTAR-08 - DONE"
     ]
    },
    {
     "cell_type": "markdown",
     "metadata": {},
     "source": [
      "Melyik a legt\u00f6bb meg\u00e1ll\u00f3t tartalmaz\u00f3 BKK-j\u00e1rat (route)?"
     ]
    },
    {
     "cell_type": "code",
     "collapsed": false,
     "input": [
      "routesAndTrips = routes.join(trips, trips.route_id == routes.route_id)\n",
      "routesAndTripsAndStopTimes = routesAndTrips = routesAndTrips.join(stopTimes, stopTimes.trip_id == routesAndTrips.trip_id)\n",
      "routesAndTripsAndStopTimesAndStops = routesAndTripsAndStopTimes.join(stopsWithRealParent, \n",
      "    stopsWithRealParent.stop_id == routesAndTripsAndStopTimes.stop_id)\n",
      "routesAndStopIds = routesAndTripsAndStopTimesAndStops.select(routes.route_short_name,\n",
      "    routes.route_id,routesAndTripsAndStopTimesAndStops.real_parent_station)\n",
      "routesAndStopCounts = routesAndStopIds.distinct().groupBy(routesAndStopIds.route_short_name,\n",
      "    routesAndStopIds.route_id).count()\n",
      "routesAndStopCounts = routesAndStopCounts.withColumnRenamed('count','stop_count')\n",
      "routesAndStopCounts.cache()\n",
      "maxStopCount = routesAndStopCounts.groupBy().max('stop_count').first()['max(stop_count)']\n",
      "routesAndStopCounts.filter(routesAndStopCounts.stop_count == maxStopCount).show()"
     ],
     "language": "python",
     "metadata": {},
     "outputs": []
    }
   ],
   "metadata": {}
  }
 ]
}